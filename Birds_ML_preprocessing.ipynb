{
 "cells": [
  {
   "cell_type": "code",
   "execution_count": 1,
   "id": "a226f12a",
   "metadata": {},
   "outputs": [],
   "source": [
    "import pandas as pd\n",
    "import numpy as np\n",
    "import seaborn as sns\n",
    "from sklearn.model_selection import train_test_split"
   ]
  },
  {
   "cell_type": "code",
   "execution_count": 2,
   "id": "282a7d06",
   "metadata": {},
   "outputs": [],
   "source": [
    "open(\"/Users/olivianystrom/Desktop/Springboard/CA_Birds_of_Prey/Birds_of_Prey.csv\")\n",
    "df = pd.read_csv(\"/Users/olivianystrom/Desktop/Springboard/CA_Birds_of_Prey/Birds_of_Prey.csv\")\n",
    "df.drop('Unnamed: 0', axis=1, inplace=True)"
   ]
  },
  {
   "cell_type": "code",
   "execution_count": 3,
   "id": "13ce8dfe",
   "metadata": {},
   "outputs": [
    {
     "name": "stdout",
     "output_type": "stream",
     "text": [
      "   Unnamed: 0.1            LAST EDITED DATE        COMMON NAME  \\\n",
      "0             0  2021-08-05 02:45:57.629774         Bald Eagle   \n",
      "1             1  2021-04-01 02:35:26.368505      Cooper's Hawk   \n",
      "2             2  2021-04-01 02:35:26.368505    Red-tailed Hawk   \n",
      "3             3         2017-08-16 00:55:22   American Kestrel   \n",
      "4             4         2014-10-19 02:09:50  White-tailed Kite   \n",
      "\n",
      "            SCIENTIFIC NAME     COUNTY COUNTY CODE   LATITUDE   LONGITUDE  \\\n",
      "0  Haliaeetus leucocephalus  Del Norte   US-CA-015  41.754666 -124.202714   \n",
      "1        Accipiter cooperii  Riverside   US-CA-065  33.531253 -117.075205   \n",
      "2         Buteo jamaicensis  Riverside   US-CA-065  33.462797 -115.980082   \n",
      "3          Falco sparverius       Kern   US-CA-029  35.615712 -118.251686   \n",
      "4           Elanus leucurus   Monterey   US-CA-053  36.826080 -121.632273   \n",
      "\n",
      "  OBSERVATION DATE                    Size  ... Orange  Black  \\\n",
      "0       1999-01-18   goose-sized or larger  ...      0      0   \n",
      "1       1996-10-13              crow-sized  ...      1      0   \n",
      "2       1997-08-22  between crow and goose  ...      1      0   \n",
      "3       1995-09-11             robin-sized  ...      1      1   \n",
      "4       1994-10-15  between crow and goose  ...      0      1   \n",
      "\n",
      "                Bird  Category  Hawk  Falcon Kite Eagle  Owl  Kestrel  \n",
      "0         Bald Eagle     Eagle     0       0    0     1    0        0  \n",
      "1      Cooper's Hawk      Hawk     1       0    0     0    0        0  \n",
      "2    Red-tailed Hawk      Hawk     1       0    0     0    0        0  \n",
      "3   American Kestrel   Kestrel     0       0    0     0    0        1  \n",
      "4  White-tailed Kite      Kite     0       0    1     0    0        0  \n",
      "\n",
      "[5 rows x 24 columns]\n",
      "['goose-sized or larger' 'crow-sized' 'between crow and goose'\n",
      " 'robin-sized' 'between robin and crow' 'between sparrow and robin']\n",
      "Index(['Unnamed: 0.1', 'LAST EDITED DATE', 'COMMON NAME', 'SCIENTIFIC NAME',\n",
      "       'COUNTY', 'COUNTY CODE', 'LATITUDE', 'LONGITUDE', 'OBSERVATION DATE',\n",
      "       'Size', 'Main Colors', 'Brown', 'White', 'Gray', 'Orange', 'Black',\n",
      "       'Bird', 'Category', 'Hawk', 'Falcon', 'Kite', 'Eagle', 'Owl',\n",
      "       'Kestrel'],\n",
      "      dtype='object')\n",
      "Red-tailed Hawk          1176986\n",
      "Red-shouldered Hawk       574831\n",
      "American Kestrel          528448\n",
      "Cooper's Hawk             370733\n",
      "Northern Harrier          334597\n",
      "White-tailed Kite         238140\n",
      "Peregrine Falcon          165279\n",
      "Great Horned Owl          146301\n",
      "Sharp-shinned Hawk        102859\n",
      "Bald Eagle                 92167\n",
      "Merlin                     78960\n",
      "Barn Owl                   67592\n",
      "Golden Eagle               64187\n",
      "Swainson's Hawk            64171\n",
      "Burrowing Owl              50720\n",
      "Ferruginous Hawk           48514\n",
      "Prairie Falcon             37034\n",
      "Western Screech-Owl        29922\n",
      "Rough-legged Hawk          14697\n",
      "Northern Pygmy-Owl         13969\n",
      "Northern Saw-whet Owl      10790\n",
      "Short-eared Owl             9022\n",
      "Long-eared Owl              8152\n",
      "Northern Goshawk            2985\n",
      "Broad-winged Hawk           2755\n",
      "Zone-tailed Hawk            2026\n",
      "Flammulated Owl             1914\n",
      "Barred Owl                  1310\n",
      "Harris's Hawk                749\n",
      "Gray Hawk                    403\n",
      "Common Black Hawk            302\n",
      "Mississippi Kite             253\n",
      "Snowy Owl                    202\n",
      "Swallow-tailed Kite            4\n",
      "Elf Owl                        1\n",
      "Aplomado Falcon                1\n",
      "Name: COMMON NAME, dtype: int64\n"
     ]
    }
   ],
   "source": [
    "print(df.head())\n",
    "print(df['Size'].unique())\n",
    "print(df.columns)\n",
    "print(df['COMMON NAME'].value_counts())"
   ]
  },
  {
   "cell_type": "code",
   "execution_count": 4,
   "id": "2442953a",
   "metadata": {},
   "outputs": [
    {
     "name": "stdout",
     "output_type": "stream",
     "text": [
      "Red-tailed Hawk          1176986\n",
      "Red-shouldered Hawk       574831\n",
      "American Kestrel          528448\n",
      "Cooper's Hawk             370733\n",
      "Northern Harrier          334597\n",
      "White-tailed Kite         238140\n",
      "Peregrine Falcon          165279\n",
      "Great Horned Owl          146301\n",
      "Sharp-shinned Hawk        102859\n",
      "Bald Eagle                 92167\n",
      "Merlin                     78960\n",
      "Barn Owl                   67592\n",
      "Golden Eagle               64187\n",
      "Swainson's Hawk            64171\n",
      "Burrowing Owl              50720\n",
      "Ferruginous Hawk           48514\n",
      "Prairie Falcon             37034\n",
      "Western Screech-Owl        29922\n",
      "Rough-legged Hawk          14697\n",
      "Northern Pygmy-Owl         13969\n",
      "Northern Saw-whet Owl      10790\n",
      "Short-eared Owl             9022\n",
      "Long-eared Owl              8152\n",
      "Northern Goshawk            2985\n",
      "Broad-winged Hawk           2755\n",
      "Zone-tailed Hawk            2026\n",
      "Flammulated Owl             1914\n",
      "Barred Owl                  1310\n",
      "Name: COMMON NAME, dtype: int64\n"
     ]
    }
   ],
   "source": [
    "# removing valuew with incidence under 1000 sightings\n",
    "low_incidence = [\"Harris's Hawk\", 'Gray Hawk', 'Common Black Hawk', 'Mississippi Kite', \n",
    "                 'Snowy Owl', 'Swallow-tailed Kite', 'Elf Owl', 'Aplomado Falcon'] # Removing non-raptor species that remained in the dataset\n",
    "df.drop(df[df['COMMON NAME'].str.contains('|'.join(low_incidence))].index, inplace = True)\n",
    "print(df['COMMON NAME'].value_counts())\n"
   ]
  },
  {
   "cell_type": "code",
   "execution_count": 5,
   "id": "955a3133",
   "metadata": {},
   "outputs": [],
   "source": [
    "df['Main Colors'] = df['Main Colors'].str.replace(\" \", \"\")\n",
    "df['Main Colors'] = df['Main Colors'].str.split(\",\")\n"
   ]
  },
  {
   "cell_type": "code",
   "execution_count": 6,
   "id": "abb8d0dc",
   "metadata": {},
   "outputs": [
    {
     "data": {
      "text/plain": [
       "Unnamed: 0.1          int64\n",
       "LAST EDITED DATE     object\n",
       "COMMON NAME          object\n",
       "SCIENTIFIC NAME      object\n",
       "COUNTY               object\n",
       "COUNTY CODE          object\n",
       "LATITUDE            float64\n",
       "LONGITUDE           float64\n",
       "OBSERVATION DATE     object\n",
       "Size                 object\n",
       "Main Colors          object\n",
       "Brown                 int64\n",
       "White                 int64\n",
       "Gray                  int64\n",
       "Orange                int64\n",
       "Black                 int64\n",
       "Bird                 object\n",
       "Category             object\n",
       "Hawk                  int64\n",
       "Falcon                int64\n",
       "Kite                  int64\n",
       "Eagle                 int64\n",
       "Owl                   int64\n",
       "Kestrel               int64\n",
       "dtype: object"
      ]
     },
     "execution_count": 6,
     "metadata": {},
     "output_type": "execute_result"
    }
   ],
   "source": [
    "from sklearn.preprocessing import MultiLabelBinarizer\n",
    "mlb = MultiLabelBinarizer()\n",
    "# df['Main_Colors_mlb'] = mlb.fit_transform(df['Main Colors'])\n",
    "# print(mlb.fit_transform(df['Main Colors']))\n",
    "# print(mlb.classes_)\n",
    "df_mlb = pd.DataFrame(mlb.fit_transform(df['Main Colors']),columns=mlb.classes_)\n",
    "df.dtypes\n",
    "# print(df['Main Colors_mlb'].head())"
   ]
  },
  {
   "cell_type": "code",
   "execution_count": 7,
   "id": "04f1c0c7",
   "metadata": {},
   "outputs": [
    {
     "data": {
      "text/plain": [
       "black     int64\n",
       "brown     int64\n",
       "gray      int64\n",
       "orange    int64\n",
       "white     int64\n",
       "dtype: object"
      ]
     },
     "execution_count": 7,
     "metadata": {},
     "output_type": "execute_result"
    }
   ],
   "source": [
    "# print(df.shape)\n",
    "# print(mlb.fit_transform(df['Main Colors']).shape)\n",
    "df_mlb.dtypes"
   ]
  },
  {
   "cell_type": "code",
   "execution_count": 5,
   "id": "ed066ba1",
   "metadata": {},
   "outputs": [],
   "source": [
    "#adding dummy variables for size (already did color)\n",
    "\n",
    "df[\"between sparrow and robin\"] = np.where(df[\"Size\"].str.contains(\"between sparrow and robin\"), 1, 0)\n",
    "df[\"robin-sized\"] = np.where(df[\"Size\"].str.contains(\"robin-sized\"), 1, 0)\n",
    "df[\"between robin and crow\"] = np.where(df[\"Size\"].str.contains(\"between robin and crow\"), 1, 0)\n",
    "df[\"crow-sized\"] = np.where(df[\"Size\"].str.contains(\"crow-sized\"), 1, 0)\n",
    "df[\"between crow and goose\"] = np.where(df[\"Size\"].str.contains(\"between crow and goose\"), 1, 0)\n",
    "df[\"goose-sized or larger\"] = np.where(df[\"Size\"].str.contains(\"goose-sized or larger\"), 1, 0)\n",
    "\n"
   ]
  },
  {
   "cell_type": "code",
   "execution_count": 6,
   "id": "c1a1dfc7",
   "metadata": {},
   "outputs": [],
   "source": [
    "# Note that Lat/Long coordinates can often \n",
    "#be used as-is with tree-based models like Random Forest or Gradient Boost that do not require data to be normalized. \n",
    "#Other models such as neural network models would usually require those coordinates to be normalized.\n",
    "\n",
    "#Normalizing the Lat and Long columns\n",
    "\n",
    "df['Lat_normalized'] = (df['LATITUDE'] - df['LATITUDE'].min()) / (df['LATITUDE'].max() - df['LATITUDE'].min())\n",
    "df['Long_normalized'] = (df['LONGITUDE'] - df['LONGITUDE'].min()) / (df['LONGITUDE'].max() - df['LONGITUDE'].min())\n",
    "df.drop(['Unnamed: 0.1', 'COUNTY CODE', 'COUNTY', 'Main Colors', 'LATITUDE', 'LONGITUDE',\n",
    "         'LAST EDITED DATE'], axis=1, inplace=True)\n"
   ]
  },
  {
   "cell_type": "code",
   "execution_count": 7,
   "id": "dec63f03",
   "metadata": {},
   "outputs": [],
   "source": [
    "df[\"COMMON NAME\"] = df[\"COMMON NAME\"].astype('category')\n",
    "df[\"COMMON NAME_cat\"] = df[\"COMMON NAME\"].cat.codes\n",
    "df['Size'] = df['Size'].astype('category')\n",
    "df[\"Size_cat\"] = df[\"Size\"].cat.codes\n",
    "df[\"Category\"] = df[\"Category\"].astype('category')\n",
    "df[\"Birdtype_cat\"] = df[\"Category\"].cat.codes"
   ]
  },
  {
   "cell_type": "code",
   "execution_count": 8,
   "id": "e4e58670",
   "metadata": {},
   "outputs": [
    {
     "name": "stdout",
     "output_type": "stream",
     "text": [
      "Index(['COMMON NAME', 'SCIENTIFIC NAME', 'OBSERVATION DATE', 'Size', 'Brown',\n",
      "       'White', 'Gray', 'Orange', 'Black', 'Bird', 'Category', 'Hawk',\n",
      "       'Falcon', 'Kite', 'Eagle', 'Owl', 'Kestrel',\n",
      "       'between sparrow and robin', 'robin-sized', 'between robin and crow',\n",
      "       'crow-sized', 'between crow and goose', 'goose-sized or larger',\n",
      "       'Lat_normalized', 'Long_normalized', 'COMMON NAME_cat', 'Size_cat',\n",
      "       'Birdtype_cat'],\n",
      "      dtype='object')\n",
      "  OBSERVATION DATE  Brown  White  Gray  Orange  Black  Size_cat  Birdtype_cat  \\\n",
      "0       1999-01-18      1      1     0       0      0         4             0   \n",
      "1       1996-10-13      0      0     1       1      0         3             2   \n",
      "2       1997-08-22      1      1     0       1      0         0             2   \n",
      "3       1995-09-11      0      0     1       1      1         5             3   \n",
      "4       1994-10-15      0      1     1       0      1         0             4   \n",
      "\n",
      "   Lat_normalized  Long_normalized  \n",
      "0        0.974463         0.171715  \n",
      "1        0.138719         0.758075  \n",
      "2        0.131762         0.848168  \n",
      "3        0.350562         0.661289  \n",
      "4        0.473572         0.383178  \n"
     ]
    }
   ],
   "source": [
    "print(df.columns)\n",
    "# print(df[['OBSERVATION DATE', 'Brown', 'White',\n",
    "#        'Gray', 'Orange', 'Black','between sparrow and robin', 'robin-sized',\n",
    "#        'between robin and crow', 'crow-sized', 'between crow and goose',\n",
    "#        'goose-sized or larger', 'Lat_normalized', 'Long_normalized']].head())\n",
    "\n",
    "print(df[['OBSERVATION DATE', 'Brown', 'White',\n",
    "       'Gray', 'Orange', 'Black', 'Size_cat', 'Birdtype_cat', 'Lat_normalized', 'Long_normalized']].head())"
   ]
  },
  {
   "cell_type": "code",
   "execution_count": 9,
   "id": "85e69c7a",
   "metadata": {},
   "outputs": [],
   "source": [
    "save_file = \"/Users/olivianystrom/Desktop/Springboard/CA_Birds_of_Prey/Birds_of_Prey_ML.csv\"\n",
    "df.to_csv(save_file)"
   ]
  },
  {
   "cell_type": "code",
   "execution_count": null,
   "id": "8c856737",
   "metadata": {},
   "outputs": [],
   "source": [
    "import pandas as pd\n",
    "from sklearn.model_selection import train_test_split"
   ]
  },
  {
   "cell_type": "code",
   "execution_count": null,
   "id": "75e9b8f1",
   "metadata": {},
   "outputs": [],
   "source": [
    "open(\"/Users/olivianystrom/Desktop/Springboard/CA_Birds_of_Prey/Birds_of_Prey_ML.csv\")\n",
    "df = pd.read_csv(\"/Users/olivianystrom/Desktop/Springboard/CA_Birds_of_Prey/Birds_of_Prey_ML.csv\")\n",
    "print(df.head())"
   ]
  },
  {
   "cell_type": "code",
   "execution_count": null,
   "id": "d62c7690",
   "metadata": {},
   "outputs": [],
   "source": [
    "# Split into test and train data\n",
    "\n",
    "X_train, X_test, y_train, y_test = train_test_split(df[['Brown', 'White',\n",
    "       'Gray', 'Orange', 'Black','between sparrow and robin', 'robin-sized',\n",
    "       'between robin and crow', 'crow-sized', 'between crow and goose',\n",
    "       'goose-sized or larger', 'Lat_normalized', 'Long_normalized']], df[[\n",
    "       'Hawk', 'Falcon', 'Kite', 'Eagle','Owl', 'Kestrel']], \n",
    "       test_size=0.33, random_state=42)\n",
    "\n",
    "X_train_name, X_test_name, y_train_name, y_test_name = train_test_split(df[['Brown', 'White',\n",
    "       'Gray', 'Orange', 'Black','between sparrow and robin', 'robin-sized',\n",
    "       'between robin and crow', 'crow-sized', 'between crow and goose',\n",
    "       'goose-sized or larger', 'Lat_normalized', 'Long_normalized']], df['COMMON NAME_cat'], \n",
    "       test_size=0.33, random_state=42)\n"
   ]
  },
  {
   "cell_type": "code",
   "execution_count": null,
   "id": "b7f52bb7",
   "metadata": {},
   "outputs": [],
   "source": [
    "from sklearn.ensemble import RandomForestClassifier\n",
    "from sklearn.metrics import accuracy_score,log_loss\n",
    "from sklearn.metrics import f1_score\n",
    "from sklearn.metrics import classification_report,confusion_matrix,roc_curve,roc_auc_score"
   ]
  },
  {
   "cell_type": "code",
   "execution_count": null,
   "id": "26dea1d4",
   "metadata": {},
   "outputs": [],
   "source": [
    "\n"
   ]
  }
 ],
 "metadata": {
  "kernelspec": {
   "display_name": "Python 3",
   "language": "python",
   "name": "python3"
  },
  "language_info": {
   "codemirror_mode": {
    "name": "ipython",
    "version": 3
   },
   "file_extension": ".py",
   "mimetype": "text/x-python",
   "name": "python",
   "nbconvert_exporter": "python",
   "pygments_lexer": "ipython3",
   "version": "3.8.8"
  }
 },
 "nbformat": 4,
 "nbformat_minor": 5
}
